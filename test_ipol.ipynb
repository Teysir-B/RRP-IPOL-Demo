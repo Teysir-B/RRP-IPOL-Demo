{
  "nbformat": 4,
  "nbformat_minor": 0,
  "metadata": {
    "colab": {
      "provenance": [],
      "authorship_tag": "ABX9TyMxFki1DMr8d69A1UR2T2FJ",
      "include_colab_link": true
    },
    "kernelspec": {
      "name": "python3",
      "display_name": "Python 3"
    },
    "language_info": {
      "name": "python"
    }
  },
  "cells": [
    {
      "cell_type": "markdown",
      "metadata": {
        "id": "view-in-github",
        "colab_type": "text"
      },
      "source": [
        "<a href=\"https://colab.research.google.com/github/Teysir-B/RRP-IPOL-Demo/blob/main/test_ipol.ipynb\" target=\"_parent\"><img src=\"https://colab.research.google.com/assets/colab-badge.svg\" alt=\"Open In Colab\"/></a>"
      ]
    },
    {
      "cell_type": "code",
      "execution_count": null,
      "metadata": {
        "id": "fHGIgthtjYKn"
      },
      "outputs": [],
      "source": [
        "import os\n",
        "import iio\n",
        "import numpy as np\n",
        "\n",
        "# if you need to access a file next to the source code, use the variable ROOT\n",
        "# for example:\n",
        "#    torch.load(os.path.join(ROOT, 'weights.pth'))\n",
        "ROOT = os.path.dirname(os.path.realpath(__file__))\n",
        "\n",
        "def main(input, output, sigma):\n",
        "    u = iio.read(input)\n",
        "    print(\"hello world\", u.shape)\n",
        "    \n",
        "    v = u + np.random.randn(*u.shape) * sigma\n",
        "\n",
        "    iio.write(output, v)\n",
        "\n",
        "if __name__ == \"__main__\":\n",
        "    import argparse\n",
        "    parser = argparse.ArgumentParser()\n",
        "    parser.add_argument(\"--input\", type=str, required=True)\n",
        "    parser.add_argument(\"--sigma\", type=float, required=True)\n",
        "    parser.add_argument(\"--output\", type=str, required=True)\n",
        "\n",
        "    args = parser.parse_args()\n",
        "    main(args.input, args.output, args.sigma)"
      ]
    }
  ]
}